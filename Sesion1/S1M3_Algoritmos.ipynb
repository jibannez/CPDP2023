{
 "cells": [
  {
   "cell_type": "markdown",
   "id": "149f63af-3009-4a73-8465-f33bd2cd5a2f",
   "metadata": {
    "slideshow": {
     "slide_type": "slide"
    },
    "tags": []
   },
   "source": [
    "# **Sesión 1. Módulo 3.**  \n",
    "# **Algoritmos y Organización del Código**  "
   ]
  },
  {
   "cell_type": "markdown",
   "id": "27c460fb-a699-4424-84bf-7cca8399cadd",
   "metadata": {
    "slideshow": {
     "slide_type": "slide"
    },
    "tags": []
   },
   "source": [
    "## **3.1. Estructuras de control de flujo**  "
   ]
  },
  {
   "cell_type": "markdown",
   "id": "c94e73ca-1f41-4fdc-9fad-a0cba5aba9d3",
   "metadata": {
    "slideshow": {
     "slide_type": "slide"
    },
    "tags": []
   },
   "source": [
    "### **Sentencias `if`**"
   ]
  },
  {
   "cell_type": "markdown",
   "id": "490aef83-e27f-4404-94b0-4e7bf5f2263a",
   "metadata": {
    "slideshow": {
     "slide_type": "fragment"
    },
    "tags": []
   },
   "source": [
    "La sentencia if es la forma básica de controlar condicionalmente la ejecución de bloques de código. "
   ]
  },
  {
   "cell_type": "markdown",
   "id": "d84dcdbb-34e1-46c1-8273-656a1e63ee19",
   "metadata": {
    "slideshow": {
     "slide_type": "fragment"
    },
    "tags": []
   },
   "source": [
    "La estructura básica consiste en una expresión logica (booleana, es decir, cuyo resultado es `True` o  `False`) que es evaluada y en función del resultado de dicha evaluación se ejecutará o no el bloque de código subordinado a la sentencia if. La sintaxis más básica de la sentencia `if` en Python es:\n",
    "```\n",
    "if condicion:\n",
    "    bloque_de_codigo\n",
    "```"
   ]
  },
  {
   "cell_type": "markdown",
   "id": "8fa26b95-f400-46ef-9ef7-8f561275e826",
   "metadata": {
    "slideshow": {
     "slide_type": "fragment"
    },
    "tags": []
   },
   "source": [
    "Notad la presencia del carácter `:` para denotar el final de la expresión condicional. El bloque de código es cualquier conjunto válido de instrucciones. Un ejemplo con código real:"
   ]
  },
  {
   "cell_type": "code",
   "execution_count": null,
   "id": "adc9bf02-a574-4cd1-8baf-a529484834ac",
   "metadata": {
    "slideshow": {
     "slide_type": "fragment"
    },
    "tags": []
   },
   "outputs": [],
   "source": [
    "contador = 20\n",
    "if contador < 25:\n",
    "    print('El contador es menor que 25!!')"
   ]
  },
  {
   "cell_type": "markdown",
   "id": "e2317654-7a64-4af5-a6fb-a6702fa00b40",
   "metadata": {
    "slideshow": {
     "slide_type": "slide"
    },
    "tags": []
   },
   "source": [
    "La sentencia `if` permite el encadenamiento de una serie de condiciones utilizando la palabra clave `elif`. Estas condiciones encadenadas se evalúan si las anteriores no han evaluado a `True`. Igualmente, la palabra clave `else` permite la especificación de un bloque de código que se ejecutará si todas las expresiones condicionales han evaluado como falsas.  "
   ]
  },
  {
   "cell_type": "markdown",
   "id": "01148372-7bbd-4bd5-84b9-ef06c6eeb402",
   "metadata": {
    "slideshow": {
     "slide_type": "fragment"
    },
    "tags": []
   },
   "source": [
    "Para ello se utiliza la siguiente sintaxis:\n",
    "\n",
    "```\n",
    "if condicion1:\n",
    "    bloque1\n",
    "elif condicion2:\n",
    "    bloque2\n",
    "elif condition3:\n",
    "    bloque3\n",
    "else:\n",
    "    bloque4\n",
    "```"
   ]
  },
  {
   "cell_type": "markdown",
   "id": "b619d114-a8c2-4db0-83e8-485b73ba0db5",
   "metadata": {
    "slideshow": {
     "slide_type": "fragment"
    },
    "tags": []
   },
   "source": [
    "Reutilizando el ejemplo anterior:"
   ]
  },
  {
   "cell_type": "code",
   "execution_count": null,
   "id": "7edf9a2b-dfe8-4068-a6b6-7edc636fc449",
   "metadata": {
    "tags": []
   },
   "outputs": [],
   "source": [
    "contador = 20\n",
    "if contador < 25:\n",
    "    print('El contador es menor que 25!!')\n",
    "elif contador > 25:\n",
    "    print('El contador es mayor que 25!!')\n",
    "else:\n",
    "    print('El contador es igual a 25!!')"
   ]
  },
  {
   "cell_type": "markdown",
   "id": "512dcfa3-4b6e-426d-bfec-ea87fbb88897",
   "metadata": {
    "slideshow": {
     "slide_type": "slide"
    },
    "tags": []
   },
   "source": [
    "### **Sentencias `while`**"
   ]
  },
  {
   "cell_type": "markdown",
   "id": "c6237240-9741-43ea-89f8-e5ed8e72dd28",
   "metadata": {
    "slideshow": {
     "slide_type": "fragment"
    },
    "tags": []
   },
   "source": [
    "La sentencia `while` se usa para la ejecución repetida siempre que una expresión booleana sea verdadera. En otras palabras, la sentencia `while` evalúa repetidamente la expresión y, mientras sea `True` , ejecuta el bloque de código.  Si la expresión booleana es `False` (que puede suceder la primera vez que se prueba y por tanto el bloque de código no se ejecuta nunca), el bucle termina."
   ]
  },
  {
   "cell_type": "markdown",
   "id": "7b776b6c-8e83-462e-b55a-e4b119863b97",
   "metadata": {
    "slideshow": {
     "slide_type": "fragment"
    },
    "tags": []
   },
   "source": [
    "La sintaxis de esta sentencia es:\n",
    "```\n",
    "while condicion:\n",
    "    bloque\n",
    "```"
   ]
  },
  {
   "cell_type": "markdown",
   "id": "3fce375c-86e5-49d5-80e6-020e7ceb145f",
   "metadata": {
    "slideshow": {
     "slide_type": "fragment"
    },
    "tags": []
   },
   "source": [
    "Nota cómo la expresión condicional se finaliza de nuevo con el carácter `:`. Un ejemplo del uso de esta sentencia:"
   ]
  },
  {
   "cell_type": "code",
   "execution_count": null,
   "id": "07df3940-318e-41f3-98bb-9e90f64dff1f",
   "metadata": {
    "tags": []
   },
   "outputs": [],
   "source": [
    "contador = 0\n",
    "while contador < 10:\n",
    "    print('El valor del contador es %d, por lo que es menor que 10!!' % contador)\n",
    "    contador += 1"
   ]
  },
  {
   "cell_type": "markdown",
   "id": "ee0850ee-5c06-49a3-a0f9-e7958a130f69",
   "metadata": {},
   "source": [
    "La sentencia `while` permite la definición de una condición else que se ejecutará cuando la condición evalúe como `False`. Reutilizando el ejemplo anterior:\n",
    "\n"
   ]
  },
  {
   "cell_type": "code",
   "execution_count": null,
   "id": "fce975da-0d26-4ee3-a3b0-0e575d8753a4",
   "metadata": {
    "tags": []
   },
   "outputs": [],
   "source": [
    "contador = 0\n",
    "while contador < 10:\n",
    "    print('El valor del contador es %d, por lo que es menor que 10!!' % contador)\n",
    "    contador += 1\n",
    "else:\n",
    "    print('Se terminó el bucle, el contador ahora vale 10')"
   ]
  },
  {
   "cell_type": "markdown",
   "id": "272266d9-90c3-49ae-8a47-fe3241e762b7",
   "metadata": {
    "slideshow": {
     "slide_type": "slide"
    },
    "tags": []
   },
   "source": [
    "### **Sentencias `for`**"
   ]
  },
  {
   "cell_type": "markdown",
   "id": "812b7b18-8e36-4cd4-8297-d22f0c524264",
   "metadata": {
    "slideshow": {
     "slide_type": "fragment"
    },
    "tags": []
   },
   "source": [
    "La sentencia `for` en Python difiere un poco de lo que uno puede estar acostumbrado en lenguajes como C o Pascal. La sentencia `for` de Python itera sobre los ítems de cualquier secuencia (una lista o una cadena de texto, o cualquier tipo de dato que pueda sea `iterable`), en el orden que aparecen en la secuencia. Por ejemplo:"
   ]
  },
  {
   "cell_type": "code",
   "execution_count": null,
   "id": "2c00361b-883e-422f-9144-369540b1b784",
   "metadata": {
    "slideshow": {
     "slide_type": "fragment"
    },
    "tags": []
   },
   "outputs": [],
   "source": [
    "words = ['cat', 'window', 'defenestrate']\n",
    "for word in words:\n",
    "    print(word, len(word))"
   ]
  },
  {
   "cell_type": "markdown",
   "id": "4342a3e1-61f7-4455-a748-52aaf741903b",
   "metadata": {
    "slideshow": {
     "slide_type": "fragment"
    },
    "tags": []
   },
   "source": [
    "Un ejemplo usando cadenas de caracteres:"
   ]
  },
  {
   "cell_type": "code",
   "execution_count": null,
   "id": "7938eea9-8996-4eae-b69d-60fe3e069fab",
   "metadata": {
    "tags": []
   },
   "outputs": [],
   "source": [
    "word = 'window'\n",
    "for letter in word:\n",
    "    print(letter)"
   ]
  },
  {
   "cell_type": "markdown",
   "id": "ea239eb9-a880-463b-ad65-7cb00ac4005b",
   "metadata": {
    "slideshow": {
     "slide_type": "fragment"
    },
    "tags": []
   },
   "source": [
    "Un caso particularmente interesante es la iteración de diccionarios. Podemos iterar un diccionario a partir de sus claves, de sus valores, o de ambos a la vez. Para ello nos valdremos de tres métodos que tienen los diccionarios para generar secuencias. Veámos ejemplos de estos tres casos:"
   ]
  },
  {
   "cell_type": "code",
   "execution_count": null,
   "id": "17e4feaa-fc67-47e7-9e6a-0ceecbc10d32",
   "metadata": {
    "slideshow": {
     "slide_type": "fragment"
    },
    "tags": []
   },
   "outputs": [],
   "source": [
    "edades = dict([('Marta', 24),('Laura', 30), ('Unai', 29)])\n",
    "#edades = {'Marta': 24, 'Laura': 30, 'Unai': 29}\n",
    "for nombre in edades.keys():\n",
    "    print(nombre)"
   ]
  },
  {
   "cell_type": "code",
   "execution_count": null,
   "id": "23dfb077-8f83-4e90-b724-62d4b5a73453",
   "metadata": {
    "slideshow": {
     "slide_type": "fragment"
    },
    "tags": []
   },
   "outputs": [],
   "source": [
    "for edad in edades.values():\n",
    "    print(edad)"
   ]
  },
  {
   "cell_type": "code",
   "execution_count": null,
   "id": "abd9c465-cbab-4588-a600-9b7aed3dacbc",
   "metadata": {
    "slideshow": {
     "slide_type": "fragment"
    },
    "tags": []
   },
   "outputs": [],
   "source": [
    "for nombre, edad in edades.items():\n",
    "    print('La edad de %s es %d' % (nombre, edad))"
   ]
  },
  {
   "cell_type": "markdown",
   "id": "34bab2fa-93d8-4abc-b5c8-5fcccf9a0878",
   "metadata": {
    "slideshow": {
     "slide_type": "slide"
    },
    "tags": []
   },
   "source": [
    "### **Sentencias break, continue, pass**  \n",
    "Estas tres palabras clave de Python producen sentencias que controlan el flujo del programa dentro de un bucle."
   ]
  },
  {
   "cell_type": "markdown",
   "id": "5b5f2b36-847a-4c46-8981-d2f5fd7c80e7",
   "metadata": {
    "slideshow": {
     "slide_type": "fragment"
    },
    "tags": []
   },
   "source": [
    "La sentencia `break`, como en C, termina el bucle for o while más anidado."
   ]
  },
  {
   "cell_type": "code",
   "execution_count": null,
   "id": "46fff549-506b-4f59-89ab-3af1520dde6f",
   "metadata": {
    "slideshow": {
     "slide_type": "fragment"
    },
    "tags": []
   },
   "outputs": [],
   "source": [
    "words = ['cat', 'window', 'defenestrate']\n",
    "for w in words:\n",
    "    if len(w) > 3:\n",
    "        break\n",
    "    print(w, len(w))"
   ]
  },
  {
   "cell_type": "markdown",
   "id": "b79e7446-80a8-4d30-bf53-20d35c87c977",
   "metadata": {
    "slideshow": {
     "slide_type": "slide"
    },
    "tags": []
   },
   "source": [
    "La sentencia `continue`, también tomada de C, continua con la siguiente iteración del ciclo, por lo que el resto del bloque de código no se ejecutará en la iteración actual."
   ]
  },
  {
   "cell_type": "code",
   "execution_count": null,
   "id": "0662dcbd-2919-4071-a0d4-6a4f5a296188",
   "metadata": {
    "slideshow": {
     "slide_type": "fragment"
    },
    "tags": []
   },
   "outputs": [],
   "source": [
    "words = ['cat', 'window', 'defenestrate']\n",
    "for w in words:\n",
    "    if len(w) == 6:\n",
    "        continue\n",
    "    print(w, len(w))"
   ]
  },
  {
   "cell_type": "markdown",
   "id": "0ed9daf6-5e8f-49a9-a9d8-27470d99bab2",
   "metadata": {
    "slideshow": {
     "slide_type": "slide"
    },
    "tags": []
   },
   "source": [
    "La sentencia `pass` no hace nada. Se puede usar cuando una sentencia es requerida por la sintaxis pero el programa no requiere ninguna acción. "
   ]
  },
  {
   "cell_type": "code",
   "execution_count": null,
   "id": "38ca15ff-8186-4f38-a2c6-7758d4499cc4",
   "metadata": {
    "slideshow": {
     "slide_type": "fragment"
    },
    "tags": []
   },
   "outputs": [],
   "source": [
    "words = ['cat', 'window', 'defenestrate']\n",
    "for w in words:\n",
    "    if len(w) == 6:\n",
    "        pass\n",
    "    else:\n",
    "        print(w, len(w))"
   ]
  },
  {
   "cell_type": "markdown",
   "id": "62a6fa84-111b-4499-8990-d714cf91f181",
   "metadata": {
    "slideshow": {
     "slide_type": "slide"
    },
    "tags": []
   },
   "source": [
    "### **List y dict comprehensions**  \n",
    "Una facilidad sintáctica muy útil de python son las denominadas `list comprehensions`. Permiten sustituir un bluque for en una sentencia mucho más compacta, eficiente y legible. Veamos un ejemplo de un algoritmo implementado con un bucle for y cómo puede ser reemplazado por una `list comprehension`."
   ]
  },
  {
   "cell_type": "markdown",
   "id": "e447325d-bdd6-4cc8-bc1e-7c49d968269c",
   "metadata": {
    "slideshow": {
     "slide_type": "fragment"
    },
    "tags": []
   },
   "source": [
    "Primero, el algoritmo que usa bucle `for`:"
   ]
  },
  {
   "cell_type": "code",
   "execution_count": null,
   "id": "e187dcac-ea35-4769-9bf8-0e7df63491b9",
   "metadata": {
    "tags": []
   },
   "outputs": [],
   "source": [
    "words = ['cat', 'window', 'defenestrate']\n",
    "wordlens = list()\n",
    "for w in words:\n",
    "    wordlens.append(len(w))\n",
    "print(wordlens)"
   ]
  },
  {
   "cell_type": "markdown",
   "id": "eaeec041-c5cc-4f2a-8a12-4c0077b92135",
   "metadata": {
    "slideshow": {
     "slide_type": "fragment"
    },
    "tags": []
   },
   "source": [
    "Ahora, el algoritmo que usa bucle `list comprehension`:"
   ]
  },
  {
   "cell_type": "code",
   "execution_count": null,
   "id": "7aa14f1a-e61f-464e-8e7a-9d9a26941040",
   "metadata": {
    "tags": []
   },
   "outputs": [],
   "source": [
    "words = ['cat', 'window', 'defenestrate']\n",
    "wordlens = [len(w) for w in words]\n",
    "print(wordlens)"
   ]
  },
  {
   "cell_type": "markdown",
   "id": "c46bdc7e-4eaf-4685-92ef-66e7cd63c29c",
   "metadata": {
    "slideshow": {
     "slide_type": "slide"
    },
    "tags": []
   },
   "source": [
    "De manera similar existen las dict comprehensions. Veámos primero un bucle que crea un diccionario dentro de un bucle for:"
   ]
  },
  {
   "cell_type": "code",
   "execution_count": null,
   "id": "ce8fe943-3ad5-4b09-bd19-4261ee5931e1",
   "metadata": {
    "tags": []
   },
   "outputs": [],
   "source": [
    "words = ['cat', 'window', 'defenestrate']\n",
    "wordlens = dict()\n",
    "for w in words:\n",
    "    wordlens[w] = len(w)\n",
    "print(wordlens)"
   ]
  },
  {
   "cell_type": "markdown",
   "id": "2973dabd-6cf6-4847-a754-201bbc658953",
   "metadata": {
    "slideshow": {
     "slide_type": "fragment"
    },
    "tags": []
   },
   "source": [
    "Ahora, el algoritmo que usa bucle `dict comprehension`:"
   ]
  },
  {
   "cell_type": "code",
   "execution_count": null,
   "id": "db901079-c4f8-4f2b-a64c-08e69ee44af8",
   "metadata": {
    "tags": []
   },
   "outputs": [],
   "source": [
    "words = ['cat', 'window', 'defenestrate']\n",
    "wordlens = {(w, len(w)) for w in words}\n",
    "print(wordlens)"
   ]
  },
  {
   "cell_type": "markdown",
   "id": "d65c2ab2-848c-438d-bdda-447487114a31",
   "metadata": {
    "slideshow": {
     "slide_type": "slide"
    },
    "tags": []
   },
   "source": [
    "#### **EJERCICIOS**\n",
    "\n",
    "Vamos a practicar estos conceptos reutilizando la lista de la sesión anterior:"
   ]
  },
  {
   "cell_type": "code",
   "execution_count": null,
   "id": "fc18c8d5-4406-4535-b651-eed35bb20f48",
   "metadata": {},
   "outputs": [],
   "source": [
    "nombres = ['casa','coche','computa','amanecer']"
   ]
  },
  {
   "cell_type": "markdown",
   "id": "7ffda9b6-fb8c-47b1-8f6f-24dc7797c21c",
   "metadata": {
    "slideshow": {
     "slide_type": "fragment"
    },
    "tags": []
   },
   "source": [
    "1. Usando un bucle while, calcula qué elemento de la lista es de mayor longitud"
   ]
  },
  {
   "cell_type": "code",
   "execution_count": null,
   "id": "abadfd87-44be-4e9c-8c85-3d8de4070775",
   "metadata": {},
   "outputs": [],
   "source": []
  },
  {
   "cell_type": "markdown",
   "id": "715ec77c-af07-44fa-86dd-826c67aeb20b",
   "metadata": {
    "slideshow": {
     "slide_type": "fragment"
    },
    "tags": []
   },
   "source": [
    "2. Usando un bucle for, calcula cuantas veces aparece el carácter 'a' en cada elemento de la lista"
   ]
  },
  {
   "cell_type": "code",
   "execution_count": null,
   "id": "42e6e6e1-f0da-4d53-ac21-367e32aab9bd",
   "metadata": {},
   "outputs": [],
   "source": []
  },
  {
   "cell_type": "markdown",
   "id": "22605f30-ffcf-497f-8eaf-ff9ac2cce477",
   "metadata": {
    "slideshow": {
     "slide_type": "fragment"
    },
    "tags": []
   },
   "source": [
    "3. Usando una `list comprehension`, reemplaza todas las ocurrencias del carácter 'a' por el caracter 'u'"
   ]
  },
  {
   "cell_type": "code",
   "execution_count": null,
   "id": "6e598d09-bade-4336-a035-c6297e7b1c1a",
   "metadata": {},
   "outputs": [],
   "source": []
  },
  {
   "cell_type": "markdown",
   "id": "6b4ab6a7-79bd-4a12-8df8-6a7538374d64",
   "metadata": {
    "slideshow": {
     "slide_type": "slide"
    },
    "tags": []
   },
   "source": [
    "## **3.2. Funciones**  "
   ]
  },
  {
   "cell_type": "markdown",
   "id": "711078b8-6764-4e96-a3f2-fbb2d805b2bf",
   "metadata": {
    "slideshow": {
     "slide_type": "fragment"
    },
    "tags": []
   },
   "source": [
    "En programación, una función es un bloque de código autónomo que encapsula una tarea específica o un grupo de tareas relacionadas.  "
   ]
  },
  {
   "attachments": {
    "a5933614-6b87-406c-a01d-287a5ed3c199.png": {
     "image/png": "[encoded data removed]"
    }
   },
   "cell_type": "markdown",
   "id": "f25cea31-fcd0-4f73-add5-4082cd9ef0e1",
   "metadata": {
    "slideshow": {
     "slide_type": "fragment"
    },
    "tags": []
   },
   "source": [
    "El código que realiza la tarea está definido en alguna parte, pero no es necesario saber dónde ni cómo funciona el código. Una función puede pensarse como una caja negra:\n",
    "\n",
    "![diagrama_funcion_cajanegra.png](attachment:a5933614-6b87-406c-a01d-287a5ed3c199.png)"
   ]
  },
  {
   "cell_type": "markdown",
   "id": "bcc7b285-052d-49f1-93d3-8d56cdb2422d",
   "metadata": {
    "slideshow": {
     "slide_type": "fragment"
    },
    "tags": []
   },
   "source": [
    "Todo lo que necesitas saber es la interfaz de la función:\n",
    "\n",
    "* Qué argumentos toma (si los hay) \n",
    "* Qué valores devuelve (si los hay) "
   ]
  },
  {
   "cell_type": "markdown",
   "id": "ef2c9dee-bed9-473e-bac8-2d5ad0900d0d",
   "metadata": {
    "slideshow": {
     "slide_type": "slide"
    },
    "tags": []
   },
   "source": [
    "La secuencia de eventos al utilizar una función es como sigue:"
   ]
  },
  {
   "cell_type": "markdown",
   "id": "2c7cf5e3-38ac-4c4c-9f6b-3eaec86bc58d",
   "metadata": {
    "slideshow": {
     "slide_type": "fragment"
    },
    "tags": []
   },
   "source": [
    "1. Se llama a la función y se le pasan los argumentos adecuados.  "
   ]
  },
  {
   "cell_type": "markdown",
   "id": "aef4928d-12f3-4a1a-9620-e50a22ac30aa",
   "metadata": {
    "slideshow": {
     "slide_type": "fragment"
    },
    "tags": []
   },
   "source": [
    "2. La ejecución del programa se dirige al cuerpo de código designado y hace lo que tiene que hacer.  "
   ]
  },
  {
   "cell_type": "markdown",
   "id": "f2a35a09-9b2a-4ed3-b2ce-60f3a1c32c8d",
   "metadata": {
    "slideshow": {
     "slide_type": "fragment"
    },
    "tags": []
   },
   "source": [
    "3. Cuando la función termina, la ejecución vuelve al código donde se quedó. La función puede o no devolver datos para que tu código los utilice.  "
   ]
  },
  {
   "cell_type": "markdown",
   "id": "51d53781-e5b8-41e5-8c95-d8c448143525",
   "metadata": {
    "slideshow": {
     "slide_type": "slide"
    },
    "tags": []
   },
   "source": [
    "### **Por qué usar funciones**"
   ]
  },
  {
   "cell_type": "markdown",
   "id": "7ffea0b7-6636-4547-85df-bce5bb113806",
   "metadata": {
    "slideshow": {
     "slide_type": "fragment"
    },
    "tags": []
   },
   "source": [
    "#### **Abstracción y reutilización**\n",
    "\n",
    "Supongamos que escribes un código que hace algo útil. A medida que avanzas en el desarrollo, descubres que la tarea que realiza ese código es una que necesitas a menudo, en muchas ubicaciones diferentes dentro de tu aplicación. ¿Qué puedes hacer? "
   ]
  },
  {
   "cell_type": "markdown",
   "id": "d8e8b695-6aa5-45ab-b5e5-c85a05e37bec",
   "metadata": {
    "slideshow": {
     "slide_type": "fragment"
    },
    "tags": []
   },
   "source": [
    "Podrías simplemente replicar el código una y otra vez, utilizando la función de copiar y pegar de tu editor de textos."
   ]
  },
  {
   "cell_type": "markdown",
   "id": "c4019b51-d2d8-44a7-b085-8e53b4e52710",
   "metadata": {
    "slideshow": {
     "slide_type": "slide"
    },
    "tags": []
   },
   "source": [
    "Una solución mejor es definir una función Python que realice la tarea. En cualquier lugar de tu aplicación donde necesites realizar la tarea, simplemente llamas a la función. "
   ]
  },
  {
   "cell_type": "markdown",
   "id": "cd47de20-c578-430b-b2b1-b39473e23a4b",
   "metadata": {
    "slideshow": {
     "slide_type": "fragment"
    },
    "tags": []
   },
   "source": [
    "Más adelante, si decides cambiar cómo funciona, sólo tienes que cambiar el código en un lugar, que es el lugar donde se define la función. Los cambios se recogerán automáticamente en cualquier lugar donde se llame a la función."
   ]
  },
  {
   "cell_type": "markdown",
   "id": "9d2b0883-dba2-4bda-b133-d2feb2175979",
   "metadata": {
    "slideshow": {
     "slide_type": "fragment"
    },
    "tags": []
   },
   "source": [
    "La abstracción de la funcionalidad en una definición de función es un ejemplo del Principio de No Repetirse (DRY) del desarrollo de software. Esta es posiblemente la mayor motivación para utilizar funciones."
   ]
  },
  {
   "cell_type": "markdown",
   "id": "16280eee-73b6-404d-9de4-1e483d759d5d",
   "metadata": {
    "slideshow": {
     "slide_type": "slide"
    },
    "tags": []
   },
   "source": [
    "#### **Modularidad**\n",
    "\n",
    "Las funciones permiten dividir procesos complejos en pasos más pequeños. Imagina, por ejemplo, que tienes un programa que lee un fichero, procesa su contenido y escribe un fichero de salida. Su código podría tener este aspecto:"
   ]
  },
  {
   "cell_type": "markdown",
   "id": "3caa43dd-0f9d-48d8-92b2-e5d337e42c0c",
   "metadata": {
    "slideshow": {
     "slide_type": "fragment"
    },
    "tags": []
   },
   "source": [
    "```\n",
    "# Programa principal\n",
    "\n",
    "# Código para leer el archivo\n",
    "<sentencia>\n",
    "<sentencia>\n",
    "<sentencia>\n",
    "\n",
    "# Código para procesar el archivo\n",
    "<sentencia>\n",
    "<sentencia>\n",
    "<sentencia>\n",
    "\n",
    "# Código para escribir el archivo\n",
    "<sentencia>\n",
    "<sentencia>\n",
    "<sentencia>\n",
    "```"
   ]
  },
  {
   "cell_type": "markdown",
   "id": "46f49b54-a74c-496d-a731-665fade92812",
   "metadata": {
    "slideshow": {
     "slide_type": "slide"
    },
    "tags": []
   },
   "source": [
    "En este ejemplo, el programa principal es un montón de código encadenado en una larga secuencia, con espacios en blanco y comentarios para ayudar a organizarlo. Sin embargo, si el código fuera mucho más largo y complejo, te resultaría cada vez más difícil entenderlo."
   ]
  },
  {
   "cell_type": "markdown",
   "id": "e6879a71-698a-45c3-afed-653dd103f892",
   "metadata": {
    "slideshow": {
     "slide_type": "fragment"
    },
    "tags": []
   },
   "source": [
    "Otra posibilidad es estructurar el código de la siguiente manera:"
   ]
  },
  {
   "cell_type": "markdown",
   "id": "8130576f-7aba-46cb-8408-b05b9dee005d",
   "metadata": {
    "slideshow": {
     "slide_type": "slide"
    },
    "tags": []
   },
   "source": [
    "```\n",
    "def leer_archivo():\n",
    "    # Código para leer el archivo\n",
    "    <sentencia>\n",
    "    <sentencia>\n",
    "    <sentencia>\n",
    "\n",
    "def procesar_archivo():\n",
    "    # Código para procesar el archivo\n",
    "    <sentencia>\n",
    "    <sentencia>\n",
    "    <sentencia>\n",
    "\n",
    "def escribir_archivo():\n",
    "    # Código para escribir el archivo\n",
    "    <sentencia>\n",
    "    <sentencia>\n",
    "    <sentencia>\n",
    "\n",
    "def main():\n",
    "    # Programa principal\n",
    "    leer_archivo()\n",
    "    procesar_archivo()\n",
    "    escribir_archivo()\n",
    "```"
   ]
  },
  {
   "cell_type": "markdown",
   "id": "0bc2559e-dbe9-4d8a-bf02-f25490f53b21",
   "metadata": {
    "slideshow": {
     "slide_type": "slide"
    },
    "tags": []
   },
   "source": [
    "Este segundo ejemplo está modularizado. En lugar de poner todo el código seguido está dividido en funciones separadas, cada una de las cuales se centra en una tarea específica. "
   ]
  },
  {
   "cell_type": "markdown",
   "id": "40583d54-6682-45a7-a60f-1c67f87d7122",
   "metadata": {
    "slideshow": {
     "slide_type": "fragment"
    },
    "tags": []
   },
   "source": [
    "Estas tareas son leer, procesar y escribir. "
   ]
  },
  {
   "cell_type": "markdown",
   "id": "1573e4ed-6d37-43d6-9103-41e2b5e7a5d8",
   "metadata": {
    "slideshow": {
     "slide_type": "fragment"
    },
    "tags": []
   },
   "source": [
    "El programa principal ahora sólo tiene que llamar a cada una de ellas a su vez."
   ]
  },
  {
   "cell_type": "markdown",
   "id": "73be8cfb-9e0f-4c4c-8dd3-b101783d5115",
   "metadata": {
    "slideshow": {
     "slide_type": "fragment"
    },
    "tags": []
   },
   "source": [
    "Dividir una tarea grande en subtareas más pequeñas, del tamaño de un bocado, ayuda a que la tarea grande sea más fácil de pensar y gestionar. A medida que los programas se complican, modularlos de este modo resulta cada vez más beneficioso."
   ]
  },
  {
   "cell_type": "markdown",
   "id": "f2e1ddfb-1c16-4c11-b98e-9f5c5afa63b6",
   "metadata": {
    "slideshow": {
     "slide_type": "slide"
    },
    "tags": []
   },
   "source": [
    "**Separación de namespaces**\n",
    "\n",
    "Como veremos más adelante, un namespace (espacio de nombres) es una región o ámbito de un programa en la que los identificadores (las etiquetas que le ponemos a nuestras variables) tienen un significado determinado."
   ]
  },
  {
   "cell_type": "markdown",
   "id": "04de28e2-8abf-41dc-b5a6-652fe3fe65bb",
   "metadata": {
    "slideshow": {
     "slide_type": "fragment"
    },
    "tags": []
   },
   "source": [
    "Cuando se llama a una función Python, se crea un nuevo espacio de nombres para esa función, uno que es distinto de todos los demás espacios de nombres que ya existen."
   ]
  },
  {
   "cell_type": "markdown",
   "id": "45a39ae3-8ad7-45d8-b72d-d842dd2a94e3",
   "metadata": {
    "slideshow": {
     "slide_type": "fragment"
    },
    "tags": []
   },
   "source": [
    "Esto significa que cuando escribes código dentro de una función, puedes utilizar nombres e identificadores de variables sin preocuparte de si ya se utilizan en otro lugar fuera de la función."
   ]
  },
  {
   "cell_type": "markdown",
   "id": "a883aac0-28a4-40cb-80a9-e46db5cd77fe",
   "metadata": {
    "slideshow": {
     "slide_type": "fragment"
    },
    "tags": []
   },
   "source": [
    "Esto ayuda a minimizar considerablemente los errores en el código."
   ]
  },
  {
   "cell_type": "markdown",
   "id": "d8be4f30-eac5-415f-ac7c-9f24f910d854",
   "metadata": {
    "slideshow": {
     "slide_type": "slide"
    },
    "tags": []
   },
   "source": [
    "### **Cómo definir funciones**\n",
    "\n",
    "La sintaxis para definir funciones sigue el siguiente patrón:\n",
    "```\n",
    "def nombrefuncion([argumentos]):\n",
    "   sentencia(s)\n",
    "```"
   ]
  },
  {
   "cell_type": "markdown",
   "id": "60d10569-f040-4b58-bc9e-2235a3f84f1d",
   "metadata": {
    "slideshow": {
     "slide_type": "fragment"
    },
    "tags": []
   },
   "source": [
    "El último elemento, sentencia(s), se denomina cuerpo de la función. El cuerpo es un bloque de sentencias que se ejecutarán cuando se llame a la función. "
   ]
  },
  {
   "cell_type": "markdown",
   "id": "5d784f45-fc15-4978-9615-d68484753c47",
   "metadata": {
    "slideshow": {
     "slide_type": "fragment"
    },
    "tags": []
   },
   "source": [
    "El cuerpo de una función Python se define por la indentación. Es igual que los bloques de código asociados a una estructura de control, como una sentencia if o while."
   ]
  },
  {
   "cell_type": "markdown",
   "id": "a70b5a66-1f04-45fa-b8fd-a0b966190bac",
   "metadata": {
    "slideshow": {
     "slide_type": "fragment"
    },
    "tags": []
   },
   "source": [
    "Si queremos que la función devuelva algún valor tras retornar al punto del programa donde fue llamada, debemos introducir en el cuerpo de la función una sentencia return:\n",
    "```\n",
    "def nombrefuncion([argumentos]):\n",
    "   sentencia(s)\n",
    "   return [valores de retorno] \n",
    "```"
   ]
  },
  {
   "cell_type": "markdown",
   "id": "1df2b58f-d335-417d-98f6-3fa2635fc571",
   "metadata": {
    "slideshow": {
     "slide_type": "slide"
    },
    "tags": []
   },
   "source": [
    "Veámoslo con un ejemplo sencillo:"
   ]
  },
  {
   "cell_type": "code",
   "execution_count": null,
   "id": "6fcb7005-2476-4fdd-85b7-a184cdcd7ed9",
   "metadata": {},
   "outputs": [],
   "source": [
    "def suma5(n):\n",
    "    return n + 5"
   ]
  },
  {
   "cell_type": "code",
   "execution_count": null,
   "id": "7955405b-ad5c-42d7-ab0e-3274fbae0c2e",
   "metadata": {
    "slideshow": {
     "slide_type": "fragment"
    },
    "tags": []
   },
   "outputs": [],
   "source": [
    "suma5(13)"
   ]
  },
  {
   "cell_type": "markdown",
   "id": "fdd8aa65-a3ce-4232-8fd7-8b5d5c284aca",
   "metadata": {
    "slideshow": {
     "slide_type": "slide"
    },
    "tags": []
   },
   "source": [
    "Ahora con un ejemplo un poco menos trivial:"
   ]
  },
  {
   "cell_type": "code",
   "execution_count": null,
   "id": "db30fa2c-1ae5-4316-afdf-c809cce86b86",
   "metadata": {
    "slideshow": {
     "slide_type": "fragment"
    },
    "tags": []
   },
   "outputs": [],
   "source": [
    "def fact(n):\n",
    "    result = 1\n",
    "    for i in range(n):\n",
    "        result = result*(i+1)\n",
    "    return result"
   ]
  },
  {
   "cell_type": "code",
   "execution_count": null,
   "id": "62643c06-ce8e-495e-8b45-173a9bff811b",
   "metadata": {
    "slideshow": {
     "slide_type": "fragment"
    },
    "tags": []
   },
   "outputs": [],
   "source": [
    "fact(3)"
   ]
  },
  {
   "cell_type": "markdown",
   "id": "aa6676e8-52e7-43c6-a423-0fdce53cf23c",
   "metadata": {
    "slideshow": {
     "slide_type": "slide"
    },
    "tags": []
   },
   "source": [
    "### **Cómo utilizar (llamar) funciones**  \n",
    "La sintaxis para llamar a una función Python es la siguiente:\n",
    "\n",
    "`nombrefuncion([argumentos])`\n"
   ]
  },
  {
   "cell_type": "markdown",
   "id": "cf6a002e-1c37-4a02-8e38-9cec9db494f1",
   "metadata": {
    "slideshow": {
     "slide_type": "fragment"
    },
    "tags": []
   },
   "source": [
    "Si la función devuelve valores de retorno, debemos asignar el resultado de la llamada a la función a una variable que contendrá dichos valores:\n",
    "\n",
    "`variable = nombrefuncion([argumentos])`"
   ]
  },
  {
   "cell_type": "markdown",
   "id": "eab56fd2-f662-40bf-aa04-7ef285f97377",
   "metadata": {
    "slideshow": {
     "slide_type": "fragment"
    },
    "tags": []
   },
   "source": [
    "Veámos el siguiente ejemplo:"
   ]
  },
  {
   "cell_type": "code",
   "execution_count": null,
   "id": "ae8dbd1f-48bb-48a6-8bee-7737a8358b88",
   "metadata": {
    "slideshow": {
     "slide_type": "fragment"
    },
    "tags": []
   },
   "outputs": [],
   "source": [
    "def f():\n",
    "    s = '-- Dentro de f()'\n",
    "    print(s)\n",
    "\n",
    "print('Antes de llamar a f()')\n",
    "f()\n",
    "print('Después de llamar a f()')\n"
   ]
  },
  {
   "cell_type": "markdown",
   "id": "60d20583-53e2-4c93-8d0a-19511cf59feb",
   "metadata": {
    "slideshow": {
     "slide_type": "slide"
    },
    "tags": []
   },
   "source": [
    "### **Cómo pasar argumentos a funciones**  \n",
    "A menudo queremos pasar datos a una función para que su comportamiento pueda variar de una invocación a la siguiente. Veamos cómo hacerlo.\n"
   ]
  },
  {
   "cell_type": "markdown",
   "id": "1120df5d-e1f7-46e5-b2c4-3c9f161b6eaa",
   "metadata": {
    "slideshow": {
     "slide_type": "fragment"
    },
    "tags": []
   },
   "source": [
    "**Argumentos posicionales**\n",
    "\n",
    "La forma más directa de pasar argumentos a una función Python es con argumentos posicionales (también llamados argumentos requeridos). En la definición de la función, se especifica una lista de parámetros separados por comas dentro de los paréntesis:"
   ]
  },
  {
   "cell_type": "code",
   "execution_count": null,
   "id": "4672e7e1-3279-497a-a746-1e12da29632b",
   "metadata": {
    "slideshow": {
     "slide_type": "slide"
    },
    "tags": []
   },
   "outputs": [],
   "source": [
    "def calculaprecios(kilos, item, preciokg):\n",
    "    if kilos <= 0:\n",
    "        print('Error, no se proporcionó una cantidad positiva de ' + item)\n",
    "    elif kilos > 1 or kilos < 1:\n",
    "        print(\"%2.1f kilos de %s cuestan %2f euros\" % (kilos, item, preciokg * kilos))\n",
    "    elif kilos == 1:\n",
    "        print(\"%2.1f kilo de %s cuesta %2f euros\" % (kilos, item, preciokg * kilos))\n"
   ]
  },
  {
   "cell_type": "code",
   "execution_count": null,
   "id": "fb386bc6-40dd-4cd0-b6eb-4560266340a8",
   "metadata": {
    "slideshow": {
     "slide_type": "fragment"
    },
    "tags": []
   },
   "outputs": [],
   "source": [
    "calculaprecios(1, 'manzanas', 1.2)"
   ]
  },
  {
   "cell_type": "code",
   "execution_count": null,
   "id": "d0054765-67d1-45eb-89df-4b57150d7632",
   "metadata": {
    "slideshow": {
     "slide_type": "fragment"
    },
    "tags": []
   },
   "outputs": [],
   "source": [
    "calculaprecios(1.2, 'manzanas', 1)"
   ]
  },
  {
   "cell_type": "code",
   "execution_count": null,
   "id": "d9a906f2-9cb3-4941-8333-04bcff224701",
   "metadata": {
    "slideshow": {
     "slide_type": "fragment"
    },
    "tags": []
   },
   "outputs": [],
   "source": [
    "calculaprecios('manzanas', 1.2, 1)"
   ]
  },
  {
   "cell_type": "markdown",
   "id": "62d0073c-302c-4cec-897c-db85b2175d85",
   "metadata": {
    "slideshow": {
     "slide_type": "slide"
    },
    "tags": []
   },
   "source": [
    "**Argumentos de palabra clave (keyword)**\n",
    "\n",
    "Cuando llamas a una función, puedes especificar argumentos de la forma `<keyword>=<valor>`. En ese caso, cada `<keyword>` debe coincidir con un parámetro en la definición de la función Python. Por ejemplo, la función previamente definida calculaprecios() puede ser llamada con argumentos de palabra clave como sigue:"
   ]
  },
  {
   "cell_type": "code",
   "execution_count": null,
   "id": "0b11b330-045c-4f10-b325-74e5fa5dfff3",
   "metadata": {
    "slideshow": {
     "slide_type": "fragment"
    },
    "tags": []
   },
   "outputs": [],
   "source": [
    "calculaprecios(kilos=1, item='manzanas', preciokg=1.2)"
   ]
  },
  {
   "cell_type": "code",
   "execution_count": null,
   "id": "11292fde-93d1-4664-bc98-dfdb6b430f8d",
   "metadata": {
    "slideshow": {
     "slide_type": "skip"
    },
    "tags": []
   },
   "outputs": [],
   "source": [
    "calculaprecios(item='manzanas', preciokg=1.2, kilos=1)"
   ]
  },
  {
   "cell_type": "markdown",
   "id": "19303fc1-58ae-4010-b215-8704d444930f",
   "metadata": {
    "slideshow": {
     "slide_type": "slide"
    },
    "tags": []
   },
   "source": [
    "**Parámetros por defecto**  \n",
    "\n",
    "Si un parámetro especificado en la definición de una función Python tiene la forma `<nombre>=<valor>`, entonces `<valor>` se convierte en un valor por defecto para ese parámetro. Los parámetros definidos de esta forma se denominan parámetros por defecto u opcionales. A continuación se muestra un ejemplo de definición de función con parámetros por defecto:"
   ]
  },
  {
   "cell_type": "code",
   "execution_count": null,
   "id": "79f7d969-c78e-40a7-9c94-8fda523358c8",
   "metadata": {
    "slideshow": {
     "slide_type": "slide"
    },
    "tags": []
   },
   "outputs": [],
   "source": [
    "def calculaprecios(kilos=6, item='plátanos', preciokg=1.74):\n",
    "    if kilos <= 0:\n",
    "        print('Error, no se proporcionó una cantidad positiva de ' + item)\n",
    "    elif kilos > 1 or kilos < 1:\n",
    "        print(\"%2.1f kilos de %s cuestan %2f euros\" % (kilos, item, preciokg * kilos))\n",
    "    elif kilos == 1:\n",
    "        print(\"%2.1f kilo de %s cuesta %2f euros\" % (kilos, item, preciokg * kilos))\n",
    "        "
   ]
  },
  {
   "cell_type": "code",
   "execution_count": null,
   "id": "602b18d7-c64a-400f-9349-3d876fcd4d4a",
   "metadata": {
    "slideshow": {
     "slide_type": "fragment"
    },
    "tags": []
   },
   "outputs": [],
   "source": [
    "calculaprecios()"
   ]
  },
  {
   "cell_type": "code",
   "execution_count": null,
   "id": "3985191a-747a-4c2c-bf26-7c3ab55229ba",
   "metadata": {
    "slideshow": {
     "slide_type": "fragment"
    },
    "tags": []
   },
   "outputs": [],
   "source": [
    "calculaprecios(kilos=0.1)"
   ]
  },
  {
   "cell_type": "code",
   "execution_count": null,
   "id": "9115effa-a3ab-47da-96e9-87b4d838d176",
   "metadata": {
    "slideshow": {
     "slide_type": "fragment"
    },
    "tags": []
   },
   "outputs": [],
   "source": [
    "calculaprecios(preciokg=3.9)"
   ]
  },
  {
   "cell_type": "code",
   "execution_count": null,
   "id": "a8949e2d-db90-4e5a-aafd-34c8f81fef4a",
   "metadata": {
    "slideshow": {
     "slide_type": "fragment"
    },
    "tags": []
   },
   "outputs": [],
   "source": [
    "calculaprecios(item='aguacate', preciokg=3.9)"
   ]
  },
  {
   "cell_type": "markdown",
   "id": "8d551afd-ac3d-4531-89c4-742446bd04b9",
   "metadata": {},
   "source": [
    "**Efectos secundarios**\n",
    "\n",
    "Dado que el paso de argumento en Python se hace por referencia, es posible modificar un argumento dentro de una función para que el cambio se refleje en el entorno de llamada."
   ]
  },
  {
   "cell_type": "markdown",
   "id": "6efd4886-e1c4-4985-a023-389aae45b240",
   "metadata": {
    "slideshow": {
     "slide_type": "fragment"
    },
    "tags": []
   },
   "source": [
    "En general sólo debe hacerse si se tiene perfectamente controlado y acotado dicho efecto secundario, y es esencial tenerlo en cuenta para evitar errores muy difíciles de arreglar."
   ]
  },
  {
   "cell_type": "markdown",
   "id": "a9537f81-013c-4740-bde0-2ade4049902c",
   "metadata": {
    "slideshow": {
     "slide_type": "slide"
    },
    "tags": []
   },
   "source": [
    "#### **EJERCICIOS**\n",
    "\n",
    "Vamos a practicar la creación de funciones con una serie de ejercicios."
   ]
  },
  {
   "cell_type": "markdown",
   "id": "0285d170-ced2-4c2e-95e6-73c873d3bb8a",
   "metadata": {},
   "source": [
    "1. Crea una función que calcule la sucesión aritmética (la suma de todos los números naturales hasta el número N). Puedes utilizar la fórmula de Gauss, o pensar tu una solución que no requiera de formulas. La función debe tomar un argumento, el número natural hasta el que calcular la sucesión, y debe devolver el resultado del cálculo."
   ]
  },
  {
   "cell_type": "code",
   "execution_count": null,
   "id": "6a7c6c94-79e8-47ee-aea0-25a2688cba53",
   "metadata": {},
   "outputs": [],
   "source": []
  },
  {
   "cell_type": "markdown",
   "id": "458f964d-7142-42f9-9187-961da3c559fe",
   "metadata": {
    "slideshow": {
     "slide_type": "slide"
    },
    "tags": []
   },
   "source": [
    "2. Crea una función que compruebe si un número es divisible por otro (si es factor). La funcion debe tomar dos números enteros como argumentos, y devolver un booleano como resultado (`True` si el segundo número es factor del primero, `False` en caso contrario)"
   ]
  },
  {
   "cell_type": "code",
   "execution_count": null,
   "id": "a1478549-5faf-48d7-ac03-1cef49848596",
   "metadata": {},
   "outputs": [],
   "source": []
  },
  {
   "cell_type": "markdown",
   "id": "a1939d75-4ce3-43f7-877e-af4f2f959143",
   "metadata": {
    "slideshow": {
     "slide_type": "slide"
    },
    "tags": []
   },
   "source": [
    "3. Utilizando la función del segundo ejercicio, crea una función que compruebe si un número es primo. Para ello debes llamar a la función que comprueba la divisibilidad desde la nueva función. Esta función toma como argumento un número natural y devuelve un boolean ('True' si es primo)"
   ]
  },
  {
   "cell_type": "code",
   "execution_count": null,
   "id": "d9667f8f-8ae3-4134-aab2-e68ab426cca2",
   "metadata": {},
   "outputs": [],
   "source": []
  },
  {
   "cell_type": "markdown",
   "id": "5f3fdf77-56c5-4da9-9131-f9b76ec319f6",
   "metadata": {
    "slideshow": {
     "slide_type": "slide"
    },
    "tags": []
   },
   "source": [
    "4. Por último, crea una función (utilizando la función del punto 2) que calcule los factores de un número dado (la lista de números que multiplicados entre sí dan el numero original). Esta función debe tomar un numero natural como argumento y devolver una lista de números enteros."
   ]
  },
  {
   "cell_type": "code",
   "execution_count": null,
   "id": "e8e2cc91-626e-43e9-99f7-c1623aab5635",
   "metadata": {},
   "outputs": [],
   "source": []
  },
  {
   "cell_type": "markdown",
   "id": "29bb6415-fcf9-4f31-837e-7f49ef1c960d",
   "metadata": {
    "slideshow": {
     "slide_type": "slide"
    },
    "tags": []
   },
   "source": [
    "## **3.3. Namespaces**  "
   ]
  },
  {
   "cell_type": "markdown",
   "id": "6b9acfa0-49b5-42db-a646-ad6c42577fe1",
   "metadata": {
    "slideshow": {
     "slide_type": "fragment"
    },
    "tags": []
   },
   "source": [
    "Un espacio de nombres es una colección de nombres simbólicos definidos actualmente junto con información sobre el objeto al que hace referencia cada nombre. "
   ]
  },
  {
   "cell_type": "markdown",
   "id": "cdf3083c-96d3-4a17-88fd-74eafaf92456",
   "metadata": {
    "slideshow": {
     "slide_type": "fragment"
    },
    "tags": []
   },
   "source": [
    "Se puede considerar un espacio de nombres como un diccionario en el que las claves son los nombres de los objetos y los valores son los propios objetos. Cada par clave-valor asigna un nombre a su objeto correspondiente. "
   ]
  },
  {
   "cell_type": "markdown",
   "id": "64c9ce5b-5030-41fc-b5c9-f7d3109290b6",
   "metadata": {
    "slideshow": {
     "slide_type": "fragment"
    },
    "tags": []
   },
   "source": [
    "En un programa Python, hay tres tipos de espacios de nombres:  \n",
    "* Built-In  \n",
    "* Global  \n",
    "* Local  "
   ]
  },
  {
   "cell_type": "markdown",
   "id": "76d58772-89dd-40b2-8695-d51b266994f8",
   "metadata": {
    "slideshow": {
     "slide_type": "fragment"
    },
    "tags": []
   },
   "source": [
    "Cada uno de estos namespaces tienen diferentes tiempos de vida. A medida que Python ejecuta un programa, crea espacios de nombres según sea necesario y los borra cuando ya no son necesarios. Normalmente, existirán muchos espacios de nombres en un momento dado."
   ]
  },
  {
   "cell_type": "markdown",
   "id": "60fa5d67-c014-4a2e-8ee6-36ee35eba4a7",
   "metadata": {
    "slideshow": {
     "slide_type": "slide"
    },
    "tags": []
   },
   "source": [
    "### **El espacio de nombres built-in**  \n",
    "\n",
    "Contiene los nombres de todos los objetos incorporados (built-in) de Python. El intérprete de Python crea el espacio de nombres incorporado cuando se inicia. Este espacio de nombres sigue existiendo hasta que el intérprete termina. De esta forma, están disponibles en todo momento cuando Python se está ejecutando. "
   ]
  },
  {
   "cell_type": "markdown",
   "id": "4a5bc133-6ca5-4414-9a0b-a164ccc230ea",
   "metadata": {
    "slideshow": {
     "slide_type": "fragment"
    },
    "tags": []
   },
   "source": [
    "Puedes listar los objetos en el espacio de nombres incorporado con el siguiente comando:"
   ]
  },
  {
   "cell_type": "code",
   "execution_count": null,
   "id": "8abb014a-4a1f-48ff-ab34-a52a487adb27",
   "metadata": {
    "tags": []
   },
   "outputs": [],
   "source": [
    "dir(__builtins__)"
   ]
  },
  {
   "cell_type": "markdown",
   "id": "96aaadfc-3585-486e-97aa-5c43c7e511ee",
   "metadata": {
    "slideshow": {
     "slide_type": "slide"
    },
    "tags": []
   },
   "source": [
    "### **El espacio de nombres global**  \n",
    "\n",
    "Contiene cualquier nombre definido a nivel del programa principal. Python crea el espacio de nombres global cuando se inicia el cuerpo principal del programa, y permanece en existencia hasta que el intérprete termina.  "
   ]
  },
  {
   "cell_type": "markdown",
   "id": "4e2cfa33-88a9-491b-84bb-9dfe3078d8e7",
   "metadata": {
    "slideshow": {
     "slide_type": "fragment"
    },
    "tags": []
   },
   "source": [
    "Estrictamente hablando, este puede no ser el único espacio de nombres global que exista. El intérprete también crea un espacio de nombres global para cualquier módulo que su programa cargue con la sentencia import.  "
   ]
  },
  {
   "cell_type": "markdown",
   "id": "c0a2afe6-4070-4396-9715-19f3ad3e6d31",
   "metadata": {
    "slideshow": {
     "slide_type": "fragment"
    },
    "tags": []
   },
   "source": [
    "Explorarás la relevancia y el uso del global namespace con más detalle en relación con la definición de módulos y librerías.  "
   ]
  },
  {
   "cell_type": "markdown",
   "id": "f1c32d47-7302-4887-8314-0939263b9641",
   "metadata": {
    "slideshow": {
     "slide_type": "slide"
    },
    "tags": []
   },
   "source": [
    "### **El espacio de nombres local**  \n",
    "\n",
    "Como vimos en el apartado anterior sobre funciones, el intérprete crea un nuevo espacio de nombres cada vez que se ejecuta una función. Ese espacio de nombres es local a la función y permanece en existencia hasta que la función termina (la situación es un poco más compleja, pero para el nivel de este curso es suficiente esta descripción).\n"
   ]
  },
  {
   "cell_type": "markdown",
   "id": "5e30ba23-b226-477d-96cf-2e8972a1ec4b",
   "metadata": {
    "slideshow": {
     "slide_type": "slide"
    },
    "tags": []
   },
   "source": [
    "### **Ámbito de las variables**  \n",
    "\n",
    "La existencia de múltiples espacios de nombres distintos significa que varias instancias diferentes de un nombre particular pueden existir simultáneamente mientras se ejecuta un programa Python.  "
   ]
  },
  {
   "cell_type": "markdown",
   "id": "11f350f6-4874-4179-8b8c-4d06e34b54a2",
   "metadata": {
    "slideshow": {
     "slide_type": "fragment"
    },
    "tags": []
   },
   "source": [
    "Mientras cada instancia esté en un espacio de nombres diferente, todas se mantendrán separadas y no interferirán entre sí."
   ]
  },
  {
   "cell_type": "markdown",
   "id": "26ecdcb9-6363-4557-830a-29b92cdae12e",
   "metadata": {
    "slideshow": {
     "slide_type": "fragment"
    },
    "tags": []
   },
   "source": [
    "Pero esto plantea una pregunta: Supongamos que te refieres al nombre _x_ en tu código, y _x_ existe en varios espacios de nombres. ¿Cómo sabe Python a cuál se refiere?  "
   ]
  },
  {
   "cell_type": "markdown",
   "id": "c2383a48-ab42-4df6-a7fb-ff84a34d89e4",
   "metadata": {
    "slideshow": {
     "slide_type": "slide"
    },
    "tags": []
   },
   "source": [
    "La respuesta está en el concepto de ámbito. El ámbito de un nombre es la región de un programa en la que ese nombre tiene significado.  "
   ]
  },
  {
   "cell_type": "markdown",
   "id": "3ccd3dda-6d42-4607-9caf-bc101a50744f",
   "metadata": {
    "slideshow": {
     "slide_type": "fragment"
    },
    "tags": []
   },
   "source": [
    "El intérprete lo determina en tiempo de ejecución basándose en el lugar de la definición del nombre y en qué parte del código se hace referencia al nombre."
   ]
  },
  {
   "cell_type": "markdown",
   "id": "0cc51595-ac56-4d8c-be5a-a12989564cd4",
   "metadata": {
    "slideshow": {
     "slide_type": "slide"
    },
    "tags": []
   },
   "source": [
    "Así, si tu código hace referencia al nombre _x_, entonces Python busca _x_ en los siguientes espacios de nombres en el orden indicado:  "
   ]
  },
  {
   "cell_type": "markdown",
   "id": "6a565f38-2aa1-44b0-a5b5-c65170ec2fac",
   "metadata": {
    "slideshow": {
     "slide_type": "fragment"
    },
    "tags": []
   },
   "source": [
    "* **Local**: Si haces referencia a x dentro de una función, entonces el intérprete lo busca primero en el ámbito más interno que sea local a esa función.  "
   ]
  },
  {
   "cell_type": "markdown",
   "id": "a396cf73-c6f8-43ce-adf2-66b20a8e69d2",
   "metadata": {
    "slideshow": {
     "slide_type": "fragment"
    },
    "tags": []
   },
   "source": [
    "* **Global**: Si no está en el ámbito  local, el intérprete busca en el ámbito global.  "
   ]
  },
  {
   "cell_type": "markdown",
   "id": "8619fb17-6629-44d4-9525-5fcc705fac88",
   "metadata": {
    "tags": []
   },
   "source": [
    "* **Built-in**: Si no encuentra _x_ en ninguna otra parte, el intérprete busca en el ámbito integrado.  "
   ]
  },
  {
   "cell_type": "markdown",
   "id": "300ca83a-082f-49b9-9af2-15fdac851f38",
   "metadata": {
    "slideshow": {
     "slide_type": "slide"
    },
    "tags": []
   },
   "source": [
    "**EJERCICIOS**"
   ]
  },
  {
   "cell_type": "markdown",
   "id": "c32d3a7f-1b15-441a-80f3-b6d4013c2ab8",
   "metadata": {
    "slideshow": {
     "slide_type": "fragment"
    },
    "tags": []
   },
   "source": [
    "Considera los siguientes bloques de código. ¿Que valor crees que se imprimirá?"
   ]
  },
  {
   "cell_type": "markdown",
   "id": "e251903a-f3cd-4d85-af58-30cc8f04195b",
   "metadata": {
    "slideshow": {
     "slide_type": "slide"
    },
    "tags": []
   },
   "source": [
    "**1)**"
   ]
  },
  {
   "cell_type": "code",
   "execution_count": null,
   "id": "0d7239f3-1b5d-4fa5-861a-d7b1280f1911",
   "metadata": {
    "tags": []
   },
   "outputs": [],
   "source": [
    "x = 20\n",
    "def f():\n",
    "    x = 40\n",
    "    print(x)\n",
    "f()"
   ]
  },
  {
   "cell_type": "markdown",
   "id": "ba0c0d81-59e5-47a7-8632-ee44544ea860",
   "metadata": {
    "slideshow": {
     "slide_type": "slide"
    },
    "tags": []
   },
   "source": [
    "**2)**"
   ]
  },
  {
   "cell_type": "code",
   "execution_count": null,
   "id": "756418ef-a07f-495b-8c95-64fbca8c07dc",
   "metadata": {
    "tags": []
   },
   "outputs": [],
   "source": [
    "x = 20\n",
    "def f():\n",
    "    x = 40\n",
    "print(x)\n",
    "f()"
   ]
  },
  {
   "cell_type": "markdown",
   "id": "1b7a1a3f-af4f-4496-883d-91ed74170a10",
   "metadata": {
    "slideshow": {
     "slide_type": "slide"
    },
    "tags": []
   },
   "source": [
    "**3)**"
   ]
  },
  {
   "cell_type": "code",
   "execution_count": null,
   "id": "3a1b6ce9-4350-4fd2-aa18-67b5ed416d3b",
   "metadata": {},
   "outputs": [],
   "source": [
    "x = 20\n",
    "def f():\n",
    "    x = x + 5\n",
    "    print(x)\n",
    "f()"
   ]
  },
  {
   "cell_type": "markdown",
   "id": "db8a5a1f-cfca-4ff9-8c6b-bc5800aa6f80",
   "metadata": {
    "slideshow": {
     "slide_type": "slide"
    },
    "tags": []
   },
   "source": [
    "## **3.4. Scripts, módulos y paquetes**  "
   ]
  },
  {
   "cell_type": "markdown",
   "id": "4ea5690b-ae07-4949-83be-bac294de7c50",
   "metadata": {
    "slideshow": {
     "slide_type": "fragment"
    },
    "tags": []
   },
   "source": [
    "La programación modular se refiere al proceso de dividir una tarea de programación grande y difícil de manejar en subtareas o módulos separados, más pequeños y manejables.  "
   ]
  },
  {
   "cell_type": "markdown",
   "id": "42f30385-389f-40a2-8d4f-e6d8ccfb000a",
   "metadata": {
    "slideshow": {
     "slide_type": "fragment"
    },
    "tags": []
   },
   "source": [
    "A continuación, los módulos individuales pueden ensamblarse como bloques de construcción para crear una aplicación mayor.  "
   ]
  },
  {
   "cell_type": "markdown",
   "id": "d6dd7d80-a68a-46c4-ac89-edd84162af34",
   "metadata": {
    "slideshow": {
     "slide_type": "fragment"
    },
    "tags": []
   },
   "source": [
    "Lo bueno de los módulos escritos en Python es que son extremadamente fáciles de construir. Todo lo que tienes que hacer es crear un archivo que contenga código Python legítimo y darle un nombre con extensión .py. Y ya está. No es necesaria ninguna sintaxis especial.  "
   ]
  },
  {
   "cell_type": "code",
   "execution_count": null,
   "id": "444ca1db-adfe-46ef-ae19-18ac94650b59",
   "metadata": {
    "slideshow": {
     "slide_type": "slide"
    },
    "tags": []
   },
   "outputs": [],
   "source": [
    "Por ejemplo, supongamos que has creado un archivo llamado mimodulo.py que contiene lo siguiente:  "
   ]
  },
  {
   "cell_type": "markdown",
   "id": "1f004da3-cc01-412d-ab98-4d5724c7d37e",
   "metadata": {
    "slideshow": {
     "slide_type": "fragment"
    },
    "tags": []
   },
   "source": [
    "```\n",
    "s = \"Tres tristes tigres\"\n",
    "a = [100, 200, 300]\n",
    "\n",
    "def foo(arg):\n",
    "    print(f'arg = {arg}')\n",
    "\n",
    "```"
   ]
  },
  {
   "cell_type": "markdown",
   "id": "225002f2-fc92-4d48-9b62-ad34c37f2619",
   "metadata": {
    "slideshow": {
     "slide_type": "fragment"
    },
    "tags": []
   },
   "source": [
    "En mimodulo.py se definen varios objetos:"
   ]
  },
  {
   "cell_type": "markdown",
   "id": "b726f661-c9a0-4d72-a58c-39e0af214f4a",
   "metadata": {
    "slideshow": {
     "slide_type": "fragment"
    },
    "tags": []
   },
   "source": [
    "* s (una cadena)"
   ]
  },
  {
   "cell_type": "markdown",
   "id": "4e3e9feb-6f72-4d15-9c50-73dc191e153c",
   "metadata": {
    "slideshow": {
     "slide_type": "fragment"
    },
    "tags": []
   },
   "source": [
    "* a (una lista)"
   ]
  },
  {
   "cell_type": "markdown",
   "id": "4e150fbd-c3e0-4ab8-9c09-3587425b4654",
   "metadata": {
    "slideshow": {
     "slide_type": "fragment"
    },
    "tags": []
   },
   "source": [
    "* foo() (una función)"
   ]
  },
  {
   "cell_type": "markdown",
   "id": "3ac966fc-6311-4128-8d9d-1710c87a6024",
   "metadata": {
    "slideshow": {
     "slide_type": "slide"
    },
    "tags": []
   },
   "source": [
    "Suponiendo que mimodulo.py esté en una ubicación adecuada se puede acceder a estos objetos importando el módulo de la siguiente manera:"
   ]
  },
  {
   "cell_type": "markdown",
   "id": "18c7c50e-2632-4836-91c3-c5ef20cd789b",
   "metadata": {
    "slideshow": {
     "slide_type": "fragment"
    },
    "tags": []
   },
   "source": [
    "```\n",
    "import mimodulo\n",
    "print(mimodulo.s)\n",
    "print(mimodulo.a)\n",
    "mimodulo.foo()\n",
    "```"
   ]
  },
  {
   "cell_type": "markdown",
   "id": "2078ef68-2645-42aa-89a1-308291541de3",
   "metadata": {
    "slideshow": {
     "slide_type": "slide"
    },
    "tags": []
   },
   "source": [
    "### **La ruta de búsqueda de módulos**\n",
    "\n",
    "Cuando el intérprete ejecuta la sentencia import anterior, busca mimodulo.py en una lista de directorios reunidos a partir de las siguientes fuentes:"
   ]
  },
  {
   "cell_type": "markdown",
   "id": "b1b5f988-1e50-4736-a3cb-d77280d91539",
   "metadata": {
    "slideshow": {
     "slide_type": "fragment"
    },
    "tags": []
   },
   "source": [
    "* El directorio desde el que se ejecutó el script de entrada o el directorio actual si el intérprete se está ejecutando de forma interactiva."
   ]
  },
  {
   "cell_type": "markdown",
   "id": "93a4b095-4a73-478d-97c7-1d4d84b8b4f4",
   "metadata": {
    "slideshow": {
     "slide_type": "fragment"
    },
    "tags": []
   },
   "source": [
    "* La lista de directorios contenidos en la variable de entorno PYTHONPATH, si está configurada. (El formato de PYTHONPATH depende del sistema operativo, pero debe imitar la variable de entorno PATH)."
   ]
  },
  {
   "cell_type": "markdown",
   "id": "741bd360-c88c-4609-99c5-0bf2a02112b4",
   "metadata": {
    "slideshow": {
     "slide_type": "fragment"
    },
    "tags": []
   },
   "source": [
    "* Una lista de directorios dependiente de la instalación y configurada en el momento de instalar Python."
   ]
  },
  {
   "cell_type": "markdown",
   "id": "5c325209-8d84-4e28-8c8d-a6161d98e123",
   "metadata": {
    "slideshow": {
     "slide_type": "slide"
    },
    "tags": []
   },
   "source": [
    "La ruta de búsqueda resultante es accesible en la variable de Python sys.path, que se obtiene de un módulo llamado sys:"
   ]
  },
  {
   "cell_type": "code",
   "execution_count": null,
   "id": "99766dbd-66eb-45a1-929a-d58b5ac2a9c4",
   "metadata": {
    "slideshow": {
     "slide_type": "fragment"
    },
    "tags": []
   },
   "outputs": [],
   "source": [
    "import sys\n",
    "sys.path"
   ]
  },
  {
   "cell_type": "markdown",
   "id": "6233096a-3510-4afd-b7d4-8ac78b1b932d",
   "metadata": {
    "slideshow": {
     "slide_type": "slide"
    },
    "tags": []
   },
   "source": [
    "### **Ejecutando un Módulo como un Script**\n",
    "\n",
    "Cualquier archivo `.py` que contenga un módulo es esencialmente también un script de Python, y no hay ninguna razón por la que no pueda ejecutarse como tal. "
   ]
  },
  {
   "cell_type": "markdown",
   "id": "e8b31b61-c31e-4596-ba31-35c562bc7c47",
   "metadata": {
    "slideshow": {
     "slide_type": "fragment"
    },
    "tags": []
   },
   "source": [
    "Sin embargo, si ejecutamos el script mimodulo.py tal cual está ahora mismo, no se observará ningún feedback porque está definido para ser importado por otro módulo que lleva a cabo el trabajo de organizar el flujo del programa. \n"
   ]
  },
  {
   "cell_type": "markdown",
   "id": "130b5dfa-2b85-4fa2-8916-adf4395a305b",
   "metadata": {
    "slideshow": {
     "slide_type": "slide"
    },
    "tags": []
   },
   "source": [
    "Con unos pequeños retoques podemos cambiar esa situación y hacer que ejecutar mimodulo.py produzca algún resultado:"
   ]
  },
  {
   "cell_type": "markdown",
   "id": "846b82f3-45a8-4b63-9cde-3fbb3973a616",
   "metadata": {
    "slideshow": {
     "slide_type": "fragment"
    },
    "tags": []
   },
   "source": [
    "```\n",
    "s = \"Tres tristes tigres\"\n",
    "a = [100, 200, 300]\n",
    "\n",
    "def foo(arg):\n",
    "    print(f'arg = {arg}')\n",
    "\n",
    "\n",
    "print(s)\n",
    "print(a)\n",
    "foo('quux')\n",
    "```"
   ]
  },
  {
   "cell_type": "markdown",
   "id": "bbbf7d7c-d7e4-4ebf-b144-243899006f49",
   "metadata": {
    "slideshow": {
     "slide_type": "slide"
    },
    "tags": []
   },
   "source": [
    "Sin embargo, tras estos cambios ahora mimodulo.py imprimirá esos mensajes cada vez que sea importado, y no sólo cuando sea ejecutado como un script.  "
   ]
  },
  {
   "cell_type": "markdown",
   "id": "098e4b82-1f92-495d-a8aa-96d5b27715c4",
   "metadata": {
    "slideshow": {
     "slide_type": "fragment"
    },
    "tags": []
   },
   "source": [
    "Para evitar esa incoveniencia y controlar la forma en que se ejecuta el módulo en cada situación, Python nos ofrece la siguiente sintaxis:  "
   ]
  },
  {
   "cell_type": "markdown",
   "id": "e63a0668-12f5-4183-93da-deb06b9e15e8",
   "metadata": {
    "slideshow": {
     "slide_type": "fragment"
    },
    "tags": []
   },
   "source": [
    "```\n",
    "s = \"Tres tristes tigres\"\n",
    "a = [100, 200, 300]\n",
    "\n",
    "def foo(arg):\n",
    "    print(f'arg = {arg}')\n",
    "\n",
    "if (__name__ == '__main__'):\n",
    "    print('Ejecutando como script standalone')\n",
    "    print(s)\n",
    "    print(a)\n",
    "    foo('quux')\n",
    "```"
   ]
  },
  {
   "cell_type": "markdown",
   "id": "afab0ace-e8e1-475d-b341-2314af4199f8",
   "metadata": {
    "slideshow": {
     "slide_type": "fragment"
    },
    "tags": []
   },
   "source": [
    "No entraremos en detalles, pero basta darse cuenta de que cuando se ejecuta como un script, la propiedad `__name__` del módulo recibe el valor '__main__', lo que desencadena la ejecución del bloque final del código."
   ]
  },
  {
   "cell_type": "markdown",
   "id": "d0f63a4f-c6b4-4d88-b8cb-4817de7f6f23",
   "metadata": {
    "slideshow": {
     "slide_type": "slide"
    },
    "tags": []
   },
   "source": [
    "### **Paquetes de Python**\n",
    "\n",
    "Supón que has desarrollado una aplicación muy grande que incluye muchos módulos. A medida que el número de módulos crece, se hace difícil hacer un seguimiento de todos ellos si se vuelcan en un solo lugar. Esto es particularmente cierto si tienen nombres o funcionalidades similares. Es posible que desee una forma de agruparlos y organizarlos."
   ]
  },
  {
   "cell_type": "markdown",
   "id": "5e32fb82-69ad-434e-8ec0-8113a6643095",
   "metadata": {
    "slideshow": {
     "slide_type": "fragment"
    },
    "tags": []
   },
   "source": [
    "Los paquetes permiten estructurar jerárquicamente el espacio de nombres de los módulos mediante la notación por puntos. Del mismo modo que los módulos ayudan a evitar colisiones entre nombres de variables globales, los paquetes ayudan a evitar colisiones entre nombres de módulos."
   ]
  },
  {
   "attachments": {
    "e6cff49c-2125-49f8-9ab8-862d83e3a3dc.png": {
     "image/png": "[encoded data removed]"
    }
   },
   "cell_type": "markdown",
   "id": "c7c944bd-b0ff-4545-9487-1b5e19299f1c",
   "metadata": {
    "slideshow": {
     "slide_type": "fragment"
    },
    "tags": []
   },
   "source": [
    "Crear un paquete es bastante sencillo, ya que hace uso de la estructura jerárquica de ficheros inherente al sistema operativo. Considere la siguiente disposición:\n",
    "\n",
    "![packages.png](attachment:e6cff49c-2125-49f8-9ab8-862d83e3a3dc.png)\n"
   ]
  },
  {
   "cell_type": "markdown",
   "id": "41ee3201-b7cd-4370-a246-c89cd8eab3dd",
   "metadata": {
    "slideshow": {
     "slide_type": "slide"
    },
    "tags": []
   },
   "source": [
    "En la que los contenidos de cada archivo son los siguientes:  "
   ]
  },
  {
   "attachments": {
    "a384ff57-9ca7-4128-9973-8de1ff0369ad.png": {
     "image/png": "[encoded data removed]"
    }
   },
   "cell_type": "markdown",
   "id": "fcb3cfd4-2720-4894-ac98-e7f17c0d5946",
   "metadata": {
    "slideshow": {
     "slide_type": "fragment"
    },
    "tags": []
   },
   "source": [
    "![packages_struct.png](attachment:a384ff57-9ca7-4128-9973-8de1ff0369ad.png)"
   ]
  },
  {
   "cell_type": "markdown",
   "id": "718b84df-8935-462e-91a9-8196ec27f45d",
   "metadata": {
    "slideshow": {
     "slide_type": "fragment"
    },
    "tags": []
   },
   "source": [
    "Dada esta estructura, si el directorio pkg reside en una ubicación donde pueda encontrarse (en uno de los directorios contenidos en sys.path), puede referirse a los dos módulos con la notación de puntos (pkg.mod1, pkg.mod2) e importarlos:"
   ]
  },
  {
   "cell_type": "markdown",
   "id": "dd537892-1342-42c0-bdc2-403d99692b41",
   "metadata": {
    "slideshow": {
     "slide_type": "fragment"
    },
    "tags": []
   },
   "source": [
    "```\n",
    "import pkg.mod1, pkg.mod2\n",
    "pkg.mod1.foo()\n",
    "pkg.mod2.bar()\n",
    "```"
   ]
  },
  {
   "cell_type": "markdown",
   "id": "4d34f017-1f3c-4812-9dd4-ce430d43950f",
   "metadata": {},
   "source": [
    "### **Inicialización de paquetes**\n",
    "\n",
    "Si un archivo llamado `__init__.py` está presente en el directorio de un paquete, es invocado cuando el paquete o un módulo del paquete es importado. Esto se puede utilizar para la ejecución del código de inicialización del paquete, como la inicialización de los datos a nivel de paquete."
   ]
  },
  {
   "cell_type": "markdown",
   "id": "5f6f9ec8-16bf-49ad-b1b3-a08d9cc55f53",
   "metadata": {
    "tags": []
   },
   "source": [
    "#### **EJERCICIOS**\n",
    "Vamos a practicar la creación de módulos en python con un par de ejercicios."
   ]
  },
  {
   "cell_type": "markdown",
   "id": "c19ad567-d247-4c16-9171-6f4b950e16ca",
   "metadata": {},
   "source": [
    "1. Crea un módulo llamado factoriza.py en el que incluyas todas las funciones que creaste en los ejercicios de funciones."
   ]
  },
  {
   "cell_type": "markdown",
   "id": "1006f1cb-51c1-42e0-b9df-2918bbd9bdf6",
   "metadata": {},
   "source": [
    "2. Una vez creado el módulo y comprobado que lo puedes importar y utilizar sus funciones desde el intérprete, ahora consigue que este módulo se puede ejecutar como un script y que cuando lo haga calcule los factores del número 192832. "
   ]
  }
 ],
 "metadata": {
  "kernelspec": {
   "display_name": "Python 3 (ipykernel)",
   "language": "python",
   "name": "python3"
  },
  "language_info": {
   "codemirror_mode": {
    "name": "ipython",
    "version": 3
   },
   "file_extension": ".py",
   "mimetype": "text/x-python",
   "name": "python",
   "nbconvert_exporter": "python",
   "pygments_lexer": "ipython3",
   "version": "3.10.9"
  }
 },
 "nbformat": 4,
 "nbformat_minor": 5
}
