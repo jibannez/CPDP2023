{
 "cells": [
  {
   "cell_type": "markdown",
   "id": "6bc45508-ea9a-4948-a047-a70584777627",
   "metadata": {},
   "source": [
    "# **Recursos web**"
   ]
  },
  {
   "cell_type": "markdown",
   "id": "d0d91247-65f8-4930-807a-baee528ab2de",
   "metadata": {
    "tags": []
   },
   "source": [
    "https://automatetheboringstuff.com"
   ]
  },
  {
   "cell_type": "markdown",
   "id": "ed69d850-1885-43c9-a1e6-3eab79f43437",
   "metadata": {
    "tags": []
   },
   "source": [
    "https://pandas.pydata.org/pandas-docs/version/0.15.2/10min.html"
   ]
  },
  {
   "cell_type": "markdown",
   "id": "be097119-eaf7-4a16-8f37-b98159fcadd4",
   "metadata": {},
   "source": [
    "https://seaborn.pydata.org/tutorial/introduction.html"
   ]
  },
  {
   "cell_type": "markdown",
   "id": "3abe1b36-5d51-4c74-8e35-92cd4ddebd9d",
   "metadata": {},
   "source": [
    "https://www.learndatasci.com/tutorials/python-pandas-tutorial-complete-introduction-for-beginners/"
   ]
  },
  {
   "cell_type": "markdown",
   "id": "d5c4d3ad-ebea-4a06-9f09-fc14ea44053e",
   "metadata": {},
   "source": [
    "https://nikgrozev.com/2015/12/27/pandas-in-jupyter-quickstart-and-useful-snippets/"
   ]
  },
  {
   "cell_type": "markdown",
   "id": "e59c2eb9-8bc0-4e10-98d6-25bd2d8542da",
   "metadata": {},
   "source": [
    "https://pandas.pydata.org/docs/getting_started/intro_tutorials/index.html"
   ]
  },
  {
   "cell_type": "markdown",
   "id": "dce715a4-5f00-4574-9be4-549accfcf6a6",
   "metadata": {},
   "source": [
    "https://scipy-lectures.org/"
   ]
  },
  {
   "cell_type": "markdown",
   "id": "2c8bd4c4-85f9-47c1-8a16-81092d7cbc90",
   "metadata": {},
   "source": [
    "https://www.djmannion.net/psych_programming/index.html"
   ]
  },
  {
   "cell_type": "markdown",
   "id": "06381a9c-f353-4edd-aec5-5c5711341dba",
   "metadata": {},
   "source": [
    "https://www.geeksforgeeks.org/pandas-groupby-multiple-values-and-plotting-results/"
   ]
  }
 ],
 "metadata": {
  "kernelspec": {
   "display_name": "Python 3 (ipykernel)",
   "language": "python",
   "name": "python3"
  },
  "language_info": {
   "codemirror_mode": {
    "name": "ipython",
    "version": 3
   },
   "file_extension": ".py",
   "mimetype": "text/x-python",
   "name": "python",
   "nbconvert_exporter": "python",
   "pygments_lexer": "ipython3",
   "version": "3.10.9"
  }
 },
 "nbformat": 4,
 "nbformat_minor": 5
}
